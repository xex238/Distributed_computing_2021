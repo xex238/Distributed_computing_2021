{
 "cells": [
  {
   "cell_type": "code",
   "execution_count": 1,
   "id": "340c2e5c-a9d1-4412-bb73-32ceb07a2afa",
   "metadata": {},
   "outputs": [],
   "source": [
    "import numpy\n",
    "from keras.models import Sequential\n",
    "from keras.layers import Dense, Dropout, Flatten, BatchNormalization, Activation\n",
    "from keras.layers.convolutional import Conv2D, MaxPooling2D\n",
    "from keras.constraints import maxnorm\n",
    "from keras.utils import np_utils\n",
    "\n",
    "# Задаём сиид для повторяемости\n",
    "seed = 21\n",
    "\n",
    "from keras.datasets import cifar10\n",
    "\n",
    "# Загружаем данные\n",
    "(X_train, y_train), (X_test, y_test) = cifar10.load_data()\n",
    "\n",
    "# Нормализуем данные\n",
    "X_train = X_train.astype('float32')\n",
    "X_test = X_test.astype('float32')\n",
    "X_train = X_train / 255.0\n",
    "X_test = X_test / 255.0\n",
    "\n",
    "# Разбиваем на катитгории\n",
    "y_train = np_utils.to_categorical(y_train)\n",
    "y_test = np_utils.to_categorical(y_test)\n",
    "class_num = y_test.shape[1]\n",
    "\n",
    "model = Sequential()\n",
    "\n",
    "model.add(Conv2D(32, (3, 3), input_shape=X_train.shape[1:], padding='same'))\n",
    "model.add(Activation('relu'))\n",
    "\n",
    "model.add(Dropout(0.2))\n",
    "\n",
    "model.add(BatchNormalization())\n",
    "\n",
    "model.add(Conv2D(64, (3, 3), padding='same'))\n",
    "model.add(Activation('relu'))\n",
    "\n",
    "model.add(MaxPooling2D(pool_size=(2, 2)))\n",
    "model.add(Dropout(0.2))\n",
    "model.add(BatchNormalization())\n",
    "\n",
    "model.add(Flatten())\n",
    "model.add(Dropout(0.2))\n",
    "\n",
    "model.add(Dense(256, kernel_constraint=maxnorm(3)))\n",
    "model.add(Activation('relu'))\n",
    "model.add(Dropout(0.2))\n",
    "model.add(BatchNormalization())\n",
    "model.add(Dense(128, kernel_constraint=maxnorm(3)))\n",
    "model.add(Activation('relu'))\n",
    "model.add(Dropout(0.2))\n",
    "model.add(BatchNormalization())\n",
    "\n",
    "model.add(Dense(class_num))\n",
    "model.add(Activation('softmax'))\n",
    "\n",
    "epochs = 1\n",
    "optimizer = 'adam'\n",
    "\n",
    "model.compile(loss='categorical_crossentropy', optimizer=optimizer, metrics=['accuracy'])\n",
    "\n",
    "#print(model.summary())\n",
    "\n",
    "#numpy.random.seed(seed)\n",
    "#model.fit(X_train, y_train, validation_data=(X_test, y_test), epochs=epochs, batch_size=64)"
   ]
  },
  {
   "cell_type": "code",
   "execution_count": 2,
   "id": "9e5c5ef2-59f5-402d-84a3-411540334a87",
   "metadata": {},
   "outputs": [],
   "source": [
    "import tensorflow as tf\n",
    "from tensorflow import keras\n",
    "opt = keras.optimizers.Adam(learning_rate=0.001)"
   ]
  },
  {
   "cell_type": "code",
   "execution_count": 3,
   "id": "f8bdaf1e-47e0-4bc1-b796-cb96c11dbf17",
   "metadata": {},
   "outputs": [],
   "source": [
    "def grad_by_one_sample(model, x, y):\n",
    "  with tf.GradientTape() as tape:\n",
    "    pred = model(x[None, :])\n",
    "    loss_by_one_sample = (y[None, :] - pred)**2\n",
    "    grads = tape.gradient(loss_by_one_sample, model.trainable_variables)\n",
    "  return grads"
   ]
  },
  {
   "cell_type": "code",
   "execution_count": 4,
   "id": "498b281d-0303-4cdc-b8ed-6ca658df1cc8",
   "metadata": {},
   "outputs": [],
   "source": [
    "grads_list = []"
   ]
  },
  {
   "cell_type": "code",
   "execution_count": 5,
   "id": "eb0aa184-6e69-4687-960f-5993519ba39f",
   "metadata": {},
   "outputs": [],
   "source": [
    "def perform_one_epoch(model, opt, X_train, y_train, X_test, y_test, batch_size):\n",
    "\n",
    "  for i_start, i_stop in zip(range(0, len(X_train) - batch_size, batch_size),\n",
    "                             range(batch_size, len(X_train), batch_size)):\n",
    "    \n",
    "    def lambda_grad(var):\n",
    "      return grad_by_one_sample(model, *var)\n",
    "    l_grads = list(map(lambda_grad,zip(X_train[i_start: i_stop],\n",
    "                                           y_train[i_start: i_stop])))\n",
    "    grads = [tf.zeros_like(g) for g in l_grads[0]]\n",
    "    for i in range(len(grads)):\n",
    "      for j in range(len(l_grads)):\n",
    "        grads[i] += l_grads[j][i]\n",
    "    for i in range(len(grads)):\n",
    "      grads[i] = grads[i] / len(l_grads)\n",
    "\n",
    "    grads_list.append(grads)\n",
    "    opt.apply_gradients(zip(grads, model.trainable_variables))\n",
    "\n",
    "  test_pred = model(X_test)\n",
    "  test_loss = tf.reduce_mean((y_test - test_pred)**2)\n",
    "  return test_loss"
   ]
  },
  {
   "cell_type": "code",
   "execution_count": 6,
   "id": "8c468c07-9e0e-49d6-aa68-a63a3d07170a",
   "metadata": {},
   "outputs": [],
   "source": [
    "def train_model(model,\n",
    "                opt,\n",
    "                X_train,\n",
    "                y_train,\n",
    "                X_test,\n",
    "                y_test,\n",
    "                batch_size,\n",
    "                epoch_num = 10):\n",
    "  for epoch in range(epoch_num):\n",
    "    test_loss = perform_one_epoch(model, opt, X_train, y_train, X_test, y_test, batch_size)\n",
    "    print(f'epoch: {epoch}, test_loss: {test_loss}')"
   ]
  },
  {
   "cell_type": "code",
   "execution_count": 7,
   "id": "98d51e6a-11ba-47ce-b29f-691a76ab3b09",
   "metadata": {},
   "outputs": [
    {
     "name": "stdout",
     "output_type": "stream",
     "text": [
      "Accuracy: 9.29%\n"
     ]
    }
   ],
   "source": [
    "# Model evaluation\n",
    "scores = model.evaluate(X_test, y_test, verbose=0)\n",
    "print(\"Accuracy: %.2f%%\" % (scores[1]*100))"
   ]
  },
  {
   "cell_type": "code",
   "execution_count": 8,
   "id": "741ec3ab-d7e9-4f58-a2bf-927d59ef3d4d",
   "metadata": {},
   "outputs": [],
   "source": [
    "we = model.get_weights()"
   ]
  },
  {
   "cell_type": "code",
   "execution_count": 9,
   "id": "f1160ede-2581-49a8-afeb-0e4a9aa810dc",
   "metadata": {},
   "outputs": [
    {
     "name": "stdout",
     "output_type": "stream",
     "text": [
      "epoch: 0, test_loss: 0.08664632588624954\n",
      "epoch: 1, test_loss: 0.08178243786096573\n",
      "epoch: 2, test_loss: 0.07932576537132263\n",
      "epoch: 3, test_loss: 0.08002076297998428\n",
      "epoch: 4, test_loss: 0.08336077630519867\n",
      "epoch: 5, test_loss: 0.08229123800992966\n",
      "epoch: 6, test_loss: 0.09384994953870773\n",
      "epoch: 7, test_loss: 0.09261314570903778\n",
      "epoch: 8, test_loss: 0.08989842236042023\n",
      "epoch: 9, test_loss: 0.0944046899676323\n"
     ]
    }
   ],
   "source": [
    "train_model(model,\n",
    "            opt,\n",
    "            X_train[:1000],\n",
    "            y_train[:1000],\n",
    "            X_test[:1000],\n",
    "            y_test[:1000],\n",
    "            batch_size=16,\n",
    "            epoch_num=10)"
   ]
  },
  {
   "cell_type": "code",
   "execution_count": 10,
   "id": "3d4bfa33-7bc6-4522-969e-a89229a13f9b",
   "metadata": {},
   "outputs": [
    {
     "name": "stdout",
     "output_type": "stream",
     "text": [
      "Accuracy: 35.07%\n"
     ]
    }
   ],
   "source": [
    "# Model evaluation\n",
    "scores = model.evaluate(X_test, y_test, verbose=0)\n",
    "print(\"Accuracy: %.2f%%\" % (scores[1]*100))"
   ]
  },
  {
   "cell_type": "code",
   "execution_count": 11,
   "id": "2cb9ecd9-4ea1-4afe-aa9d-8a1a3da57821",
   "metadata": {},
   "outputs": [],
   "source": [
    "model.set_weights(we)"
   ]
  },
  {
   "cell_type": "code",
   "execution_count": 12,
   "id": "67ec5c12-7bfa-4657-803c-7d6fb4aea39e",
   "metadata": {},
   "outputs": [
    {
     "name": "stdout",
     "output_type": "stream",
     "text": [
      "Accuracy: 9.29%\n"
     ]
    }
   ],
   "source": [
    "# Model evaluation\n",
    "scores = model.evaluate(X_test, y_test, verbose=0)\n",
    "print(\"Accuracy: %.2f%%\" % (scores[1]*100))"
   ]
  },
  {
   "cell_type": "code",
   "execution_count": null,
   "id": "935a0ee0-4516-489d-9d96-c69dfcf22630",
   "metadata": {},
   "outputs": [],
   "source": [
    "for p in range(len(grads_list)):\n",
    "    opt.apply_gradients(zip(grads_list[p], model.trainable_variables))"
   ]
  },
  {
   "cell_type": "code",
   "execution_count": null,
   "id": "9a55af5c-bd24-4246-b629-a7a05cd63e99",
   "metadata": {},
   "outputs": [],
   "source": [
    "# Model evaluation\n",
    "scores = model.evaluate(X_test, y_test, verbose=0)\n",
    "print(\"Accuracy: %.2f%%\" % (scores[1]*100))"
   ]
  }
 ],
 "metadata": {
  "kernelspec": {
   "display_name": "Python 3 (ipykernel)",
   "language": "python",
   "name": "python3"
  },
  "language_info": {
   "codemirror_mode": {
    "name": "ipython",
    "version": 3
   },
   "file_extension": ".py",
   "mimetype": "text/x-python",
   "name": "python",
   "nbconvert_exporter": "python",
   "pygments_lexer": "ipython3",
   "version": "3.8.9"
  }
 },
 "nbformat": 4,
 "nbformat_minor": 5
}
