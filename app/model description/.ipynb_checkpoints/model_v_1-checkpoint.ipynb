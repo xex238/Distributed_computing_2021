{
 "cells": [
  {
   "cell_type": "code",
   "execution_count": null,
   "id": "82e87972-40c7-4f28-91e1-4f9bd3e097cb",
   "metadata": {},
   "outputs": [],
   "source": [
    "# Наша модель\n",
    "\n",
    "import numpy\n",
    "from keras.models import Sequential\n",
    "from keras.layers import Dense, Dropout, Flatten, BatchNormalization, Activation\n",
    "from keras.layers.convolutional import Conv2D, MaxPooling2D\n",
    "from keras.constraints import maxnorm\n",
    "from keras.utils import np_utils\n",
    "\n",
    "# Set random seed for purposes of reproducibility\n",
    "seed = 21\n",
    "\n",
    "from keras.datasets import cifar10\n",
    "\n",
    "# loading in the data\n",
    "(X_train, y_train), (X_test, y_test) = cifar10.load_data()\n",
    "\n",
    "# normalize the inputs from 0-255 to between 0 and 1 by dividing by 255\n",
    "X_train = X_train.astype('float32')\n",
    "X_test = X_test.astype('float32')\n",
    "X_train = X_train / 255.0\n",
    "X_test = X_test / 255.0\n",
    "\n",
    "# one hot encode outputs\n",
    "y_train = np_utils.to_categorical(y_train)\n",
    "y_test = np_utils.to_categorical(y_test)\n",
    "class_num = y_test.shape[1]\n",
    "\n",
    "model = Sequential()\n",
    "\n",
    "model.add(Conv2D(32, (3, 3), input_shape=X_train.shape[1:], padding='same'))\n",
    "model.add(Activation('relu'))\n",
    "\n",
    "model.add(Dropout(0.2))\n",
    "\n",
    "model.add(BatchNormalization())\n",
    "\n",
    "model.add(Conv2D(64, (3, 3), padding='same'))\n",
    "model.add(Activation('relu'))\n",
    "\n",
    "model.add(MaxPooling2D(pool_size=(2, 2)))\n",
    "model.add(Dropout(0.2))\n",
    "model.add(BatchNormalization())\n",
    "\n",
    "model.add(Flatten())\n",
    "model.add(Dropout(0.2))\n",
    "\n",
    "model.add(Dense(256, kernel_constraint=maxnorm(3)))\n",
    "model.add(Activation('relu'))\n",
    "model.add(Dropout(0.2))\n",
    "model.add(BatchNormalization())\n",
    "model.add(Dense(128, kernel_constraint=maxnorm(3)))\n",
    "model.add(Activation('relu'))\n",
    "model.add(Dropout(0.2))\n",
    "model.add(BatchNormalization())\n",
    "\n",
    "model.add(Dense(class_num))\n",
    "model.add(Activation('softmax'))\n",
    "\n",
    "epochs = 1\n",
    "optimizer = 'adam'\n",
    "\n",
    "model.compile(loss='categorical_crossentropy', optimizer=optimizer, metrics=['accuracy'])\n",
    "\n",
    "print(model.summary())\n",
    "\n",
    "#numpy.random.seed(seed)\n",
    "#model.fit(X_train, y_train, validation_data=(X_test, y_test), epochs=epochs, batch_size=64)\n"
   ]
  },
  {
   "cell_type": "code",
   "execution_count": null,
   "id": "714c6219-18b7-406e-a532-b9b2b87ee11f",
   "metadata": {},
   "outputs": [],
   "source": [
    "print(model.get_weights()) # Веса модели"
   ]
  },
  {
   "cell_type": "code",
   "execution_count": null,
   "id": "24b9dd75-dfd7-4472-8c5b-62d0f1680f5c",
   "metadata": {},
   "outputs": [],
   "source": [
    "# Model evaluation\n",
    "scores = model.evaluate(X_test, y_test, verbose=0)\n",
    "print(\"Accuracy: %.2f%%\" % (scores[1]*100))"
   ]
  },
  {
   "cell_type": "code",
   "execution_count": null,
   "id": "e2aa7ec4-5601-4933-ab78-f801f192024c",
   "metadata": {},
   "outputs": [],
   "source": [
    "model.save_weights('weights.h5') # Сохранение весов в файл"
   ]
  },
  {
   "cell_type": "code",
   "execution_count": null,
   "id": "1bb47d5f-971c-4dc1-85be-275c889ee610",
   "metadata": {},
   "outputs": [],
   "source": [
    "from keras.models import load_model\n",
    "model.load_weights('weights.h5') #Загрузка весов в модель из файла"
   ]
  },
  {
   "cell_type": "code",
   "execution_count": null,
   "id": "7a95cd7e-b7f0-40fe-9eef-abe72e11162a",
   "metadata": {},
   "outputs": [],
   "source": [
    "for i in range(26):\n",
    "    print(model.get_weights()[i].shape)\n",
    "# Вывод размености весов"
   ]
  },
  {
   "cell_type": "code",
   "execution_count": null,
   "id": "9d5159f5-e48f-4f36-8810-0e10cbc9cded",
   "metadata": {},
   "outputs": [],
   "source": [
    "weight_ver = model.get_weights() # веса в переменную\n",
    "model.set_weights(weight_ver) # Установка весов из переменной"
   ]
  }
 ],
 "metadata": {
  "kernelspec": {
   "display_name": "Python 3",
   "language": "python",
   "name": "python3"
  },
  "language_info": {
   "codemirror_mode": {
    "name": "ipython",
    "version": 3
   },
   "file_extension": ".py",
   "mimetype": "text/x-python",
   "name": "python",
   "nbconvert_exporter": "python",
   "pygments_lexer": "ipython3",
   "version": "3.8.8"
  }
 },
 "nbformat": 4,
 "nbformat_minor": 5
}
